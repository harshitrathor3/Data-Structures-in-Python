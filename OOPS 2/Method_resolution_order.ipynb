{
 "cells": [
  {
   "cell_type": "code",
   "execution_count": 10,
   "metadata": {},
   "outputs": [],
   "source": [
    "class Car:\n",
    "    def __init__(self, make, model, fuel):\n",
    "        self.make = make\n",
    "        self.model = model\n",
    "        self.fuel = fuel\n",
    "    \n",
    "    def detail(self):\n",
    "        return 'This is from Car class'\n",
    "    \n",
    "\n",
    "class Electric:\n",
    "    def __init__(self, make, model, fuel):\n",
    "        self.make = make\n",
    "        self.model = model\n",
    "        self.fuel = fuel\n",
    "    \n",
    "    def detail(self):\n",
    "        return 'This is from Electric class'\n",
    "\n",
    "class Taxi(Car, Electric):\n",
    "    def __init__(self, make, model, fuel):\n",
    "        super().__init__(make, model, fuel)"
   ]
  },
  {
   "cell_type": "code",
   "execution_count": 11,
   "metadata": {},
   "outputs": [],
   "source": [
    "t = Taxi('Tesla', 2018, 'petrol')"
   ]
  },
  {
   "cell_type": "code",
   "execution_count": 12,
   "metadata": {},
   "outputs": [],
   "source": [
    "c = Car('ford', 2019, 'petrol')"
   ]
  },
  {
   "cell_type": "code",
   "execution_count": 13,
   "metadata": {},
   "outputs": [
    {
     "data": {
      "text/plain": [
       "{'make': 'Tesla', 'model': 2018, 'fuel': 'petrol'}"
      ]
     },
     "execution_count": 13,
     "metadata": {},
     "output_type": "execute_result"
    }
   ],
   "source": [
    "t.__dict__"
   ]
  },
  {
   "cell_type": "code",
   "execution_count": 14,
   "metadata": {},
   "outputs": [
    {
     "data": {
      "text/plain": [
       "'This is from Car class'"
      ]
     },
     "execution_count": 14,
     "metadata": {},
     "output_type": "execute_result"
    }
   ],
   "source": [
    "t.detail()"
   ]
  },
  {
   "cell_type": "code",
   "execution_count": 17,
   "metadata": {},
   "outputs": [
    {
     "data": {
      "text/plain": [
       "(__main__.Taxi, __main__.Car, __main__.Electric, object)"
      ]
     },
     "execution_count": 17,
     "metadata": {},
     "output_type": "execute_result"
    }
   ],
   "source": [
    "Taxi.__mro__"
   ]
  },
  {
   "cell_type": "code",
   "execution_count": 18,
   "metadata": {},
   "outputs": [
    {
     "data": {
      "text/plain": [
       "[__main__.Taxi, __main__.Car, __main__.Electric, object]"
      ]
     },
     "execution_count": 18,
     "metadata": {},
     "output_type": "execute_result"
    }
   ],
   "source": [
    "Taxi.mro()"
   ]
  },
  {
   "cell_type": "code",
   "execution_count": 10,
   "metadata": {},
   "outputs": [],
   "source": [
    "class X:\n",
    "    def __init__(self):\n",
    "        print('X')\n",
    "\n",
    "class Y:\n",
    "    def __init__(self):\n",
    "        print('Y')\n",
    "\n",
    "class Z:\n",
    "    def __init__(self):\n",
    "        print('Z')\n",
    "\n",
    "class A(X, Y):\n",
    "    def __init__(self):\n",
    "        print('A')\n",
    "        super().__init__()\n",
    "class B(Y, Z):\n",
    "    def __init__(self):\n",
    "        print('B')\n",
    "        super().__init__()\n",
    "class C(B, A, Y):\n",
    "    def __init__(self):\n",
    "        print('C')\n",
    "        super().__init__()"
   ]
  },
  {
   "cell_type": "code",
   "execution_count": 11,
   "metadata": {},
   "outputs": [
    {
     "data": {
      "text/plain": [
       "[__main__.C,\n",
       " __main__.B,\n",
       " __main__.A,\n",
       " __main__.X,\n",
       " __main__.Y,\n",
       " __main__.Z,\n",
       " object]"
      ]
     },
     "execution_count": 11,
     "metadata": {},
     "output_type": "execute_result"
    }
   ],
   "source": [
    "C.mro()"
   ]
  },
  {
   "cell_type": "code",
   "execution_count": 12,
   "metadata": {},
   "outputs": [
    {
     "name": "stdout",
     "output_type": "stream",
     "text": [
      "C\n",
      "B\n",
      "A\n",
      "X\n"
     ]
    }
   ],
   "source": [
    "c = C()"
   ]
  },
  {
   "cell_type": "code",
   "execution_count": null,
   "metadata": {},
   "outputs": [],
   "source": []
  }
 ],
 "metadata": {
  "interpreter": {
   "hash": "0c457c8ed4c947aa87731ee5f83d66b24689adf2fb432694133fe5e1885804db"
  },
  "kernelspec": {
   "display_name": "Python 3.9.7 64-bit",
   "language": "python",
   "name": "python3"
  },
  "language_info": {
   "codemirror_mode": {
    "name": "ipython",
    "version": 3
   },
   "file_extension": ".py",
   "mimetype": "text/x-python",
   "name": "python",
   "nbconvert_exporter": "python",
   "pygments_lexer": "ipython3",
   "version": "3.9.7"
  },
  "orig_nbformat": 4
 },
 "nbformat": 4,
 "nbformat_minor": 2
}
