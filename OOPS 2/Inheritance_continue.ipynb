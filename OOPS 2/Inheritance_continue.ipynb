{
 "cells": [
  {
   "cell_type": "code",
   "execution_count": 1,
   "metadata": {},
   "outputs": [],
   "source": [
    "#parent class\n",
    "class Vehicle:\n",
    "    def __init__(self, make, model, fuel):\n",
    "        self.make = make\n",
    "\n",
    "        #private attributes\n",
    "        self.__model = model\n",
    "        self.__fuel = fuel\n",
    "    \n",
    "    #private method\n",
    "    def __private_method_parent(self):\n",
    "        print(\"This is private method of parent\")\n",
    "    def method(self):\n",
    "        print('hello')"
   ]
  },
  {
   "cell_type": "code",
   "execution_count": 2,
   "metadata": {},
   "outputs": [],
   "source": [
    "#child class\n",
    "class Car(Vehicle):\n",
    "    def __init__(self, make, model, fuel, ac, sunroof):\n",
    "\n",
    "        super(Car, self).__init__(make, model, fuel)\n",
    "        #parent attributes\n",
    "        # Vehicle.make = make\n",
    "        # Vehicle.__model = model\n",
    "        # Vehicle.fuel = fuel\n",
    "\n",
    "        #child attributes\n",
    "        self.ac = ac\n",
    "        self.sunroof = sunroof\n",
    "    \n",
    "    # def get_parent_attributes(self):\n",
    "    #     print(self.make, self.__model, self.fuel)\n",
    "    # def show_private_method_parent(self):\n",
    "    #     self._Vehicle__private_method_parent()\n",
    "\n",
    "    # #private method\n",
    "    # def __showprivate(self):\n",
    "    #     self._Vehicle__private_method_parent()\n",
    "     "
   ]
  },
  {
   "cell_type": "code",
   "execution_count": 3,
   "metadata": {},
   "outputs": [
    {
     "data": {
      "text/plain": [
       "{'make': 'BMW',\n",
       " '_Vehicle__model': 2021,\n",
       " '_Vehicle__fuel': 'Electric',\n",
       " 'ac': True,\n",
       " 'sunroof': True}"
      ]
     },
     "execution_count": 3,
     "metadata": {},
     "output_type": "execute_result"
    }
   ],
   "source": [
    "c1 = Car('BMW', 2021, 'Electric', True, True)\n",
    "c1.__dict__"
   ]
  },
  {
   "cell_type": "code",
   "execution_count": 4,
   "metadata": {},
   "outputs": [
    {
     "data": {
      "text/plain": [
       "'Electric'"
      ]
     },
     "execution_count": 4,
     "metadata": {},
     "output_type": "execute_result"
    }
   ],
   "source": [
    "c1._Vehicle__fuel"
   ]
  },
  {
   "cell_type": "code",
   "execution_count": 5,
   "metadata": {},
   "outputs": [
    {
     "name": "stdout",
     "output_type": "stream",
     "text": [
      "This is private method of parent\n"
     ]
    }
   ],
   "source": [
    "c1._Vehicle__private_method_parent()"
   ]
  },
  {
   "cell_type": "code",
   "execution_count": 6,
   "metadata": {},
   "outputs": [
    {
     "name": "stdout",
     "output_type": "stream",
     "text": [
      "hello\n"
     ]
    }
   ],
   "source": [
    "c1.method()"
   ]
  },
  {
   "cell_type": "code",
   "execution_count": 12,
   "metadata": {},
   "outputs": [
    {
     "data": {
      "text/plain": [
       "'BMW'"
      ]
     },
     "execution_count": 12,
     "metadata": {},
     "output_type": "execute_result"
    }
   ],
   "source": [
    "c1.make"
   ]
  },
  {
   "cell_type": "code",
   "execution_count": 15,
   "metadata": {},
   "outputs": [
    {
     "data": {
      "text/plain": [
       "2021"
      ]
     },
     "execution_count": 15,
     "metadata": {},
     "output_type": "execute_result"
    }
   ],
   "source": [
    "c1._Vehicle__model"
   ]
  },
  {
   "cell_type": "code",
   "execution_count": null,
   "metadata": {},
   "outputs": [],
   "source": []
  }
 ],
 "metadata": {
  "interpreter": {
   "hash": "0c457c8ed4c947aa87731ee5f83d66b24689adf2fb432694133fe5e1885804db"
  },
  "kernelspec": {
   "display_name": "Python 3.9.7 64-bit",
   "language": "python",
   "name": "python3"
  },
  "language_info": {
   "codemirror_mode": {
    "name": "ipython",
    "version": 3
   },
   "file_extension": ".py",
   "mimetype": "text/x-python",
   "name": "python",
   "nbconvert_exporter": "python",
   "pygments_lexer": "ipython3",
   "version": "3.9.7"
  },
  "orig_nbformat": 4
 },
 "nbformat": 4,
 "nbformat_minor": 2
}
