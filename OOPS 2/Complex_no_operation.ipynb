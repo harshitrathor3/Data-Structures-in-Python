{
 "cells": [
  {
   "cell_type": "code",
   "execution_count": 23,
   "metadata": {},
   "outputs": [],
   "source": [
    "class Complex:\n",
    "    def __init__(self, r, i):\n",
    "        self.r = r\n",
    "        self.i = i\n",
    "    \n",
    "    def __add__(self, other):\n",
    "        return Complex('%.2f'%(self.r+other.r), '%.2f'%(self.i+other.i)+'i')\n",
    "\n",
    "    def __sub__(self, other):\n",
    "        return Complex('%.2f'%(self.r-other.r), '%.2f'%(self.i-other.i)+'i')\n",
    "\n",
    "    def __mul__(self, other):\n",
    "        return Complex('%.2f'%self.r-other.r, '%.2f'%self.i-other.i+'i')\n",
    "\n",
    "    def __truediv__(self, other):\n",
    "        return Complex('%.2f'%self.r//other.r, '%.2f'%self.i//other.i+'i')\n",
    "    \n",
    "    def __str__(self):\n",
    "        return '%.2f'%self.r\n"
   ]
  },
  {
   "cell_type": "code",
   "execution_count": 24,
   "metadata": {},
   "outputs": [
    {
     "name": "stdout",
     "output_type": "stream",
     "text": [
      "7.007.00i\n",
      "-3.00-5.00i\n"
     ]
    }
   ],
   "source": [
    "c1 = Complex(2, 1)\n",
    "c2 = Complex(5, 6)\n",
    "ans = c1+c2\n",
    "print(ans.r, ans.i, sep='')\n",
    "ans1 = c1-c2\n",
    "print(ans1.r, ans1.i, sep='')"
   ]
  },
  {
   "cell_type": "code",
   "execution_count": 26,
   "metadata": {},
   "outputs": [
    {
     "data": {
      "text/plain": [
       "'2.00'"
      ]
     },
     "execution_count": 26,
     "metadata": {},
     "output_type": "execute_result"
    }
   ],
   "source": [
    "c1.__str__()"
   ]
  },
  {
   "cell_type": "code",
   "execution_count": null,
   "metadata": {},
   "outputs": [],
   "source": []
  }
 ],
 "metadata": {
  "interpreter": {
   "hash": "0c457c8ed4c947aa87731ee5f83d66b24689adf2fb432694133fe5e1885804db"
  },
  "kernelspec": {
   "display_name": "Python 3.9.7 64-bit",
   "language": "python",
   "name": "python3"
  },
  "language_info": {
   "codemirror_mode": {
    "name": "ipython",
    "version": 3
   },
   "file_extension": ".py",
   "mimetype": "text/x-python",
   "name": "python",
   "nbconvert_exporter": "python",
   "pygments_lexer": "ipython3",
   "version": "3.9.7"
  },
  "orig_nbformat": 4
 },
 "nbformat": 4,
 "nbformat_minor": 2
}
