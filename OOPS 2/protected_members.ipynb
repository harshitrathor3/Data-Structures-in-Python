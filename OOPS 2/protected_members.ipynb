{
 "cells": [
  {
   "cell_type": "code",
   "execution_count": 3,
   "metadata": {},
   "outputs": [],
   "source": [
    "#parent class\n",
    "class Vehicle:\n",
    "    current_year = 2022\n",
    "    best_price = 2000\n",
    "    def __init__(self, make, model, fuel):\n",
    "        self.make = make\n",
    "\n",
    "        #protected attributes\n",
    "        self._model = model\n",
    "        self._fuel = fuel\n",
    "    \n",
    "    #proteced method\n",
    "    def _private_method_parent(self):\n",
    "        print(\"This is private method of parent\")\n",
    "\n",
    "    def get_value(self):\n",
    "        print('This is defualt method')\n",
    "        age = Vehicle.current_year - self.__model\n",
    "        return Vehicle.best_price*(1/age)\n",
    "    \n",
    "    def _method(self, s):\n",
    "        print(\"hello world!\", s)\n",
    "    \n",
    "    def method(self):\n",
    "        print('simple helo world!')"
   ]
  },
  {
   "cell_type": "code",
   "execution_count": 15,
   "metadata": {},
   "outputs": [],
   "source": [
    "#child class\n",
    "class Car(Vehicle):\n",
    "    def __init__(self, make, model, fuel, ac, sunroof):\n",
    "\n",
    "        super(Car, self).__init__(make, model, fuel)\n",
    "        #parent attributes\n",
    "        # Vehicle.make = make\n",
    "        # Vehicle.__model = model\n",
    "        # Vehicle.fuel = fuel\n",
    "\n",
    "        #child proteced attributes\n",
    "        self._ac = ac\n",
    "        self._sunroof = sunroof\n",
    "    \n",
    "\n",
    "    def get_value(self):\n",
    "        Vehicle.best_price = 5000\n",
    "        print('This is Override method')\n",
    "        age = Vehicle.current_year - self._Vehicle__model\n",
    "        return Vehicle.best_price*(1/age)\n",
    "    \n",
    "    \n",
    "\n",
    "    def _method(self):\n",
    "        print('hello world 2.O')\n",
    "    \n",
    "    def method(self, s):\n",
    "        print('hello', s)\n",
    "    # def get_parent_attributes(self):\n",
    "    #     print(self.make, self.__model, self.fuel)\n",
    "    # def show_private_method_parent(self):\n",
    "    #     self._Vehicle__private_method_parent()\n",
    "\n",
    "    # #private method\n",
    "    # def __showprivate(self):\n",
    "    #     self._Vehicle__private_method_parent()\n",
    "     "
   ]
  },
  {
   "cell_type": "code",
   "execution_count": 16,
   "metadata": {},
   "outputs": [
    {
     "data": {
      "text/plain": [
       "{'make': 'Tesla', '_model': 2019, '_fuel': 'Petrol'}"
      ]
     },
     "execution_count": 16,
     "metadata": {},
     "output_type": "execute_result"
    }
   ],
   "source": [
    "v1 = Vehicle('Tesla', 2019, 'Petrol')\n",
    "v1.__dict__"
   ]
  },
  {
   "cell_type": "code",
   "execution_count": 6,
   "metadata": {},
   "outputs": [
    {
     "name": "stdout",
     "output_type": "stream",
     "text": [
      "simple helo world!\n"
     ]
    }
   ],
   "source": [
    "v1.method()"
   ]
  },
  {
   "cell_type": "code",
   "execution_count": 7,
   "metadata": {},
   "outputs": [
    {
     "name": "stdout",
     "output_type": "stream",
     "text": [
      "hello world! aaaa\n"
     ]
    }
   ],
   "source": [
    "v1._method('aaaa')"
   ]
  },
  {
   "cell_type": "code",
   "execution_count": 17,
   "metadata": {},
   "outputs": [],
   "source": [
    "c1 = Car('Ford', 2019, 'diesel', False, True)"
   ]
  },
  {
   "cell_type": "code",
   "execution_count": 10,
   "metadata": {},
   "outputs": [
    {
     "data": {
      "text/plain": [
       "{'make': 'Ford',\n",
       " '_model': 2019,\n",
       " '_fuel': 'diesel',\n",
       " '_ac': False,\n",
       " '_sunroof': True}"
      ]
     },
     "execution_count": 10,
     "metadata": {},
     "output_type": "execute_result"
    }
   ],
   "source": [
    "c1.__dict__"
   ]
  },
  {
   "cell_type": "code",
   "execution_count": null,
   "metadata": {},
   "outputs": [],
   "source": []
  },
  {
   "cell_type": "code",
   "execution_count": 11,
   "metadata": {},
   "outputs": [
    {
     "data": {
      "text/plain": [
       "True"
      ]
     },
     "execution_count": 11,
     "metadata": {},
     "output_type": "execute_result"
    }
   ],
   "source": [
    "c1._sunroof"
   ]
  },
  {
   "cell_type": "code",
   "execution_count": 12,
   "metadata": {},
   "outputs": [
    {
     "ename": "AttributeError",
     "evalue": "'Car' object has no attribute 'sunroof'",
     "output_type": "error",
     "traceback": [
      "\u001b[1;31m---------------------------------------------------------------------------\u001b[0m",
      "\u001b[1;31mAttributeError\u001b[0m                            Traceback (most recent call last)",
      "\u001b[1;32m~\\AppData\\Local\\Temp/ipykernel_3536/4232077966.py\u001b[0m in \u001b[0;36m<module>\u001b[1;34m\u001b[0m\n\u001b[1;32m----> 1\u001b[1;33m \u001b[0mc1\u001b[0m\u001b[1;33m.\u001b[0m\u001b[0msunroof\u001b[0m\u001b[1;33m\u001b[0m\u001b[1;33m\u001b[0m\u001b[0m\n\u001b[0m",
      "\u001b[1;31mAttributeError\u001b[0m: 'Car' object has no attribute 'sunroof'"
     ]
    }
   ],
   "source": [
    "c1.sunroof"
   ]
  },
  {
   "cell_type": "code",
   "execution_count": 13,
   "metadata": {},
   "outputs": [
    {
     "data": {
      "text/plain": [
       "False"
      ]
     },
     "execution_count": 13,
     "metadata": {},
     "output_type": "execute_result"
    }
   ],
   "source": [
    "c1._ac"
   ]
  },
  {
   "cell_type": "code",
   "execution_count": 14,
   "metadata": {},
   "outputs": [
    {
     "ename": "AttributeError",
     "evalue": "'Car' object has no attribute 'ac'",
     "output_type": "error",
     "traceback": [
      "\u001b[1;31m---------------------------------------------------------------------------\u001b[0m",
      "\u001b[1;31mAttributeError\u001b[0m                            Traceback (most recent call last)",
      "\u001b[1;32m~\\AppData\\Local\\Temp/ipykernel_3536/2423065609.py\u001b[0m in \u001b[0;36m<module>\u001b[1;34m\u001b[0m\n\u001b[1;32m----> 1\u001b[1;33m \u001b[0mc1\u001b[0m\u001b[1;33m.\u001b[0m\u001b[0mac\u001b[0m\u001b[1;33m\u001b[0m\u001b[1;33m\u001b[0m\u001b[0m\n\u001b[0m",
      "\u001b[1;31mAttributeError\u001b[0m: 'Car' object has no attribute 'ac'"
     ]
    }
   ],
   "source": [
    "c1.ac"
   ]
  },
  {
   "cell_type": "code",
   "execution_count": 18,
   "metadata": {},
   "outputs": [
    {
     "name": "stdout",
     "output_type": "stream",
     "text": [
      "hello world 2.O\n"
     ]
    }
   ],
   "source": [
    "c1._method()"
   ]
  },
  {
   "cell_type": "code",
   "execution_count": 20,
   "metadata": {},
   "outputs": [
    {
     "name": "stdout",
     "output_type": "stream",
     "text": [
      "hello aaabb\n"
     ]
    }
   ],
   "source": [
    "c1.method('aaabb')"
   ]
  },
  {
   "cell_type": "code",
   "execution_count": null,
   "metadata": {},
   "outputs": [],
   "source": []
  }
 ],
 "metadata": {
  "interpreter": {
   "hash": "0c457c8ed4c947aa87731ee5f83d66b24689adf2fb432694133fe5e1885804db"
  },
  "kernelspec": {
   "display_name": "Python 3.9.7 64-bit",
   "language": "python",
   "name": "python3"
  },
  "language_info": {
   "codemirror_mode": {
    "name": "ipython",
    "version": 3
   },
   "file_extension": ".py",
   "mimetype": "text/x-python",
   "name": "python",
   "nbconvert_exporter": "python",
   "pygments_lexer": "ipython3",
   "version": "3.9.7"
  },
  "orig_nbformat": 4
 },
 "nbformat": 4,
 "nbformat_minor": 2
}
