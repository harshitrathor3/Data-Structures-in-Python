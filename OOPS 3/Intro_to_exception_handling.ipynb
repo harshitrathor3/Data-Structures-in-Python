{
 "cells": [
  {
   "cell_type": "code",
   "execution_count": 19,
   "metadata": {},
   "outputs": [],
   "source": [
    "class Vehicle:\n",
    "    def __init__(self, make, model, fuel):\n",
    "        self.make = make\n",
    "        self.model = model\n",
    "        self.fuel = fuel\n",
    "    \n",
    "    def get_value(self):\n",
    "        try:\n",
    "            age = 2021 - self.model\n",
    "            return 1000*(1/age)\n",
    "        except TypeError:\n",
    "            try:\n",
    "                age = 2021 - int(self.model)\n",
    "                return 1000*(1/age)\n",
    "            except ZeroDivisionError:\n",
    "                return 1000\n",
    "        except ZeroDivisionError:\n",
    "            return 1000"
   ]
  },
  {
   "cell_type": "code",
   "execution_count": 22,
   "metadata": {},
   "outputs": [
    {
     "data": {
      "text/plain": [
       "{'make': 'Tesla', 'model': '2021', 'fuel': 'petrol'}"
      ]
     },
     "execution_count": 22,
     "metadata": {},
     "output_type": "execute_result"
    }
   ],
   "source": [
    "obj = Vehicle('Tesla', '2021', 'petrol')\n",
    "obj.__dict__"
   ]
  },
  {
   "cell_type": "code",
   "execution_count": 23,
   "metadata": {},
   "outputs": [
    {
     "data": {
      "text/plain": [
       "1000"
      ]
     },
     "execution_count": 23,
     "metadata": {},
     "output_type": "execute_result"
    }
   ],
   "source": [
    "obj.get_value()"
   ]
  },
  {
   "cell_type": "code",
   "execution_count": 26,
   "metadata": {},
   "outputs": [
    {
     "name": "stdout",
     "output_type": "stream",
     "text": [
      "Oops... Error occured\n"
     ]
    }
   ],
   "source": [
    "try:\n",
    "    b = 1+'2'\n",
    "    c = 1+2\n",
    "    print(c)\n",
    "    a=1/0\n",
    "    print(b)\n",
    "except:\n",
    "    print('Oops... Error occured')"
   ]
  },
  {
   "cell_type": "code",
   "execution_count": null,
   "metadata": {},
   "outputs": [],
   "source": [
    "'''\n",
    "TypeError: Solution.fib() missing 1 required positional argument: 'n'\n",
    "    return Solution.fib(n-1)+Solution.fib(n-2)\n",
    "Line 5 in fib (Solution.py)\n",
    "    ret = Solution().fib(param_1)\n",
    "Line 24 in _driver (Solution.py)\n",
    "    _driver()\n",
    "Line 35 in <module> (Solution.py)\n",
    "'''"
   ]
  },
  {
   "cell_type": "code",
   "execution_count": 61,
   "metadata": {},
   "outputs": [],
   "source": [
    "class Solution:\n",
    "    def __init__(self):\n",
    "        pass\n",
    "    def fib(self, n: int) -> int:\n",
    "        if n<=0:\n",
    "            return 0\n",
    "        if n==1:\n",
    "            return 1\n",
    "        return self.fib(n-1)+self.fib(n-2)"
   ]
  },
  {
   "cell_type": "code",
   "execution_count": 62,
   "metadata": {},
   "outputs": [
    {
     "data": {
      "text/plain": [
       "13"
      ]
     },
     "execution_count": 62,
     "metadata": {},
     "output_type": "execute_result"
    }
   ],
   "source": [
    "s = Solution()\n",
    "s.fib(7)"
   ]
  },
  {
   "cell_type": "code",
   "execution_count": null,
   "metadata": {},
   "outputs": [],
   "source": []
  }
 ],
 "metadata": {
  "interpreter": {
   "hash": "0c457c8ed4c947aa87731ee5f83d66b24689adf2fb432694133fe5e1885804db"
  },
  "kernelspec": {
   "display_name": "Python 3.9.7 64-bit",
   "language": "python",
   "name": "python3"
  },
  "language_info": {
   "codemirror_mode": {
    "name": "ipython",
    "version": 3
   },
   "file_extension": ".py",
   "mimetype": "text/x-python",
   "name": "python",
   "nbconvert_exporter": "python",
   "pygments_lexer": "ipython3",
   "version": "3.9.7"
  },
  "orig_nbformat": 4
 },
 "nbformat": 4,
 "nbformat_minor": 2
}
