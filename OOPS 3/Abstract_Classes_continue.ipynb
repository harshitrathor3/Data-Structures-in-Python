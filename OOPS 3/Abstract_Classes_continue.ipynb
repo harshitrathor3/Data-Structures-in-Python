{
 "cells": [
  {
   "cell_type": "code",
   "execution_count": 8,
   "metadata": {},
   "outputs": [],
   "source": [
    "from abc import ABC, abstractmethod\n",
    "\n",
    "class TextReaderAbstract(ABC):\n",
    "    def __init__(self, path, filename):\n",
    "        self.path = path\n",
    "        self.filename = filename\n",
    "    \n",
    "    @abstractmethod\n",
    "    def get_path(self):\n",
    "        pass\n",
    "    \n",
    "    @abstractmethod\n",
    "    def get_filename(self):\n",
    "        pass"
   ]
  },
  {
   "cell_type": "code",
   "execution_count": 9,
   "metadata": {},
   "outputs": [],
   "source": [
    "class TextReader(TextReaderAbstract):\n",
    "\n",
    "    def get_path(self):\n",
    "        return self.path\n",
    "    \n",
    "    def get_filename(self):\n",
    "        return self.filename\n"
   ]
  },
  {
   "cell_type": "code",
   "execution_count": 10,
   "metadata": {},
   "outputs": [
    {
     "data": {
      "text/plain": [
       "{'path': 'user/download', 'filename': 'sample.txt'}"
      ]
     },
     "execution_count": 10,
     "metadata": {},
     "output_type": "execute_result"
    }
   ],
   "source": [
    "o1 = TextReader('user/download', 'sample.txt')\n",
    "o1.__dict__"
   ]
  },
  {
   "cell_type": "code",
   "execution_count": 11,
   "metadata": {},
   "outputs": [],
   "source": [
    "class Bank(ABC):\n",
    "    \n",
    "    @abstractmethod\n",
    "    def get_intrest(self):\n",
    "        pass\n",
    "\n",
    "class HDFC(Bank):\n",
    "    def get_intrest(self):\n",
    "        return 8.6\n",
    "    "
   ]
  },
  {
   "cell_type": "code",
   "execution_count": 12,
   "metadata": {},
   "outputs": [
    {
     "data": {
      "text/plain": [
       "8.6"
      ]
     },
     "execution_count": 12,
     "metadata": {},
     "output_type": "execute_result"
    }
   ],
   "source": [
    "b1 = HDFC()\n",
    "b1.get_intrest()"
   ]
  },
  {
   "cell_type": "code",
   "execution_count": 15,
   "metadata": {},
   "outputs": [
    {
     "data": {
      "text/plain": [
       "{}"
      ]
     },
     "execution_count": 15,
     "metadata": {},
     "output_type": "execute_result"
    }
   ],
   "source": [
    "b1.__dict__"
   ]
  },
  {
   "cell_type": "code",
   "execution_count": 18,
   "metadata": {},
   "outputs": [
    {
     "name": "stdout",
     "output_type": "stream",
     "text": [
      "function 1 called”\n"
     ]
    }
   ],
   "source": [
    "from abc import ABC,abstractmethod\n",
    "\n",
    "class A(ABC):\n",
    "\n",
    "    @abstractmethod\n",
    "    def fun1(self):\n",
    "        print('function of class A called”')\n",
    "\n",
    "    @abstractmethod\n",
    "    def fun2(self):\n",
    "        pass\n",
    "\n",
    "class B(A):\n",
    "    def fun1(self):\n",
    "        print('function 1 called”')\n",
    "    def fun2(self):\n",
    "        print('function 2 called”')\n",
    "o = B()\n",
    "o.fun1()"
   ]
  },
  {
   "cell_type": "code",
   "execution_count": 20,
   "metadata": {},
   "outputs": [
    {
     "name": "stdout",
     "output_type": "stream",
     "text": [
      "“function of class A called”\n"
     ]
    }
   ],
   "source": [
    "from abc import ABC,abstractmethod\n",
    "\n",
    "class A(ABC):\n",
    "\n",
    "    @abstractmethod\n",
    "    def fun1(self):\n",
    "        print('“function of class A called”')\n",
    "\n",
    "    @abstractmethod\n",
    "    def fun2(self):\n",
    "        pass\n",
    "\n",
    "class B(A):\n",
    "    def fun1(self):\n",
    "        super().fun1()\n",
    "    def fun2(self):\n",
    "        print('“function 2 called”')\n",
    "o = B()\n",
    "o.fun1()"
   ]
  },
  {
   "cell_type": "code",
   "execution_count": null,
   "metadata": {},
   "outputs": [],
   "source": []
  }
 ],
 "metadata": {
  "interpreter": {
   "hash": "0c457c8ed4c947aa87731ee5f83d66b24689adf2fb432694133fe5e1885804db"
  },
  "kernelspec": {
   "display_name": "Python 3.9.7 64-bit",
   "language": "python",
   "name": "python3"
  },
  "language_info": {
   "codemirror_mode": {
    "name": "ipython",
    "version": 3
   },
   "file_extension": ".py",
   "mimetype": "text/x-python",
   "name": "python",
   "nbconvert_exporter": "python",
   "pygments_lexer": "ipython3",
   "version": "3.9.7"
  },
  "orig_nbformat": 4
 },
 "nbformat": 4,
 "nbformat_minor": 2
}
