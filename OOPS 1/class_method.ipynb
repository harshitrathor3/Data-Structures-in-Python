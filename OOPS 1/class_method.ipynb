{
 "cells": [
  {
   "cell_type": "code",
   "execution_count": 9,
   "metadata": {},
   "outputs": [],
   "source": [
    "class Expense:\n",
    "    version = 0.4\n",
    "    def __init__(self, cat, bal, bud):\n",
    "        self.cat = cat\n",
    "        self.bal = bal\n",
    "        self.bud = bud\n",
    "    \n",
    "    #instance method\n",
    "    def get_bal(self):\n",
    "        return self.bal\n",
    "    \n",
    "    #instance method\n",
    "    def check_balance(self, limit=1000):\n",
    "        return limit<=self.bud\n",
    "    \n",
    "    @staticmethod\n",
    "    def convert(amt):\n",
    "        return float(amt)\n",
    "    \n",
    "    #factory method\n",
    "    @classmethod\n",
    "    def get_attr(cls, diary_entry:str):\n",
    "        cls.version+=2\n",
    "        cat, bal, bud = diary_entry.split()\n",
    "        return Expense(cat.capitalize(), cls.convert(bal), cls.convert(bud))\n",
    "\n",
    "    \n",
    "    def copy(obj):\n",
    "        return Expense(obj.cat, obj.bal, obj.bud)"
   ]
  },
  {
   "cell_type": "code",
   "execution_count": 10,
   "metadata": {},
   "outputs": [
    {
     "data": {
      "text/plain": [
       "{'cat': 'Shopping', 'bal': 1000.0, 'bud': 45000.0}"
      ]
     },
     "execution_count": 10,
     "metadata": {},
     "output_type": "execute_result"
    }
   ],
   "source": [
    "obj1 = Expense.get_attr('shopping 1000 45000')\n",
    "obj1.__dict__"
   ]
  },
  {
   "cell_type": "code",
   "execution_count": 11,
   "metadata": {},
   "outputs": [
    {
     "data": {
      "text/plain": [
       "2.4"
      ]
     },
     "execution_count": 11,
     "metadata": {},
     "output_type": "execute_result"
    }
   ],
   "source": [
    "obj1.version"
   ]
  },
  {
   "cell_type": "code",
   "execution_count": 12,
   "metadata": {},
   "outputs": [],
   "source": [
    "obj2 = obj1.copy()"
   ]
  },
  {
   "cell_type": "code",
   "execution_count": 14,
   "metadata": {},
   "outputs": [
    {
     "data": {
      "text/plain": [
       "1000.0"
      ]
     },
     "execution_count": 14,
     "metadata": {},
     "output_type": "execute_result"
    }
   ],
   "source": [
    "obj2.bal"
   ]
  },
  {
   "cell_type": "code",
   "execution_count": 15,
   "metadata": {},
   "outputs": [
    {
     "data": {
      "text/plain": [
       "{'cat': 'Shopping', 'bal': 1000.0, 'bud': 45000.0}"
      ]
     },
     "execution_count": 15,
     "metadata": {},
     "output_type": "execute_result"
    }
   ],
   "source": [
    "obj2.__dict__"
   ]
  },
  {
   "cell_type": "code",
   "execution_count": null,
   "metadata": {},
   "outputs": [],
   "source": []
  }
 ],
 "metadata": {
  "interpreter": {
   "hash": "0c457c8ed4c947aa87731ee5f83d66b24689adf2fb432694133fe5e1885804db"
  },
  "kernelspec": {
   "display_name": "Python 3.9.7 64-bit",
   "language": "python",
   "name": "python3"
  },
  "language_info": {
   "codemirror_mode": {
    "name": "ipython",
    "version": 3
   },
   "file_extension": ".py",
   "mimetype": "text/x-python",
   "name": "python",
   "nbconvert_exporter": "python",
   "pygments_lexer": "ipython3",
   "version": "3.9.7"
  },
  "orig_nbformat": 4
 },
 "nbformat": 4,
 "nbformat_minor": 2
}
